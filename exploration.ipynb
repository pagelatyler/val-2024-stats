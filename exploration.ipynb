{
 "cells": [
  {
   "cell_type": "code",
   "execution_count": null,
   "id": "0a6ffc89",
   "metadata": {},
   "outputs": [
    {
     "data": {
      "text/plain": [
       "0     {'Lotus': 100.0, 'Bind': 13.0, 'Sunset': 93.0, 'Abyss': 50.0, 'Icebox': 0.0, 'Haven': 100.0, 'Ascent': 88.0}\n",
       "1       {'Lotus': 0.0, 'Bind': 0.0, 'Sunset': 75.0, 'Abyss': 96.0, 'Icebox': 92.0, 'Haven': 89.0, 'Ascent': 100.0}\n",
       "2       {'Lotus': 68.0, 'Bind': 90.0, 'Sunset': 0.0, 'Abyss': 21.0, 'Icebox': 100.0, 'Haven': 17.0, 'Ascent': 0.0}\n",
       "3       {'Lotus': 18.0, 'Bind': 17.0, 'Sunset': 93.0, 'Abyss': 75.0, 'Icebox': 0.0, 'Haven': 78.0, 'Ascent': 38.0}\n",
       "4          {'Lotus': 75.0, 'Bind': 87.0, 'Sunset': 46.0, 'Abyss': 0.0, 'Icebox': 0.0, 'Haven': 6.0, 'Ascent': 0.0}\n",
       "5          {'Lotus': 90.0, 'Bind': 63.0, 'Sunset': 11.0, 'Abyss': 4.0, 'Icebox': 0.0, 'Haven': 0.0, 'Ascent': 0.0}\n",
       "6       {'Lotus': 53.0, 'Bind': 0.0, 'Sunset': 0.0, 'Abyss': 13.0, 'Icebox': 100.0, 'Haven': 22.0, 'Ascent': 50.0}\n",
       "7         {'Lotus': 8.0, 'Bind': 0.0, 'Sunset': 0.0, 'Abyss': 79.0, 'Icebox': 71.0, 'Haven': 22.0, 'Ascent': 88.0}\n",
       "8         {'Lotus': 5.0, 'Bind': 73.0, 'Sunset': 14.0, 'Abyss': 29.0, 'Icebox': 42.0, 'Haven': 6.0, 'Ascent': 0.0}\n",
       "9          {'Lotus': 33.0, 'Bind': 0.0, 'Sunset': 57.0, 'Abyss': 0.0, 'Icebox': 0.0, 'Haven': 67.0, 'Ascent': 0.0}\n",
       "10        {'Lotus': 20.0, 'Bind': 3.0, 'Sunset': 54.0, 'Abyss': 0.0, 'Icebox': 17.0, 'Haven': 50.0, 'Ascent': 0.0}\n",
       "11        {'Lotus': 3.0, 'Bind': 0.0, 'Sunset': 39.0, 'Abyss': 38.0, 'Icebox': 33.0, 'Haven': 0.0, 'Ascent': 63.0}\n",
       "12           {'Lotus': 0.0, 'Bind': 73.0, 'Sunset': 0.0, 'Abyss': 0.0, 'Icebox': 0.0, 'Haven': 0.0, 'Ascent': 0.0}\n",
       "13          {'Lotus': 3.0, 'Bind': 13.0, 'Sunset': 7.0, 'Abyss': 58.0, 'Icebox': 0.0, 'Haven': 0.0, 'Ascent': 0.0}\n",
       "14         {'Lotus': 0.0, 'Bind': 13.0, 'Sunset': 0.0, 'Abyss': 21.0, 'Icebox': 0.0, 'Haven': 22.0, 'Ascent': 0.0}\n",
       "15           {'Lotus': 3.0, 'Bind': 37.0, 'Sunset': 0.0, 'Abyss': 0.0, 'Icebox': 0.0, 'Haven': 6.0, 'Ascent': 0.0}\n",
       "16          {'Lotus': 0.0, 'Bind': 0.0, 'Sunset': 0.0, 'Abyss': 17.0, 'Icebox': 33.0, 'Haven': 0.0, 'Ascent': 0.0}\n",
       "17          {'Lotus': 3.0, 'Bind': 10.0, 'Sunset': 4.0, 'Abyss': 0.0, 'Icebox': 0.0, 'Haven': 0.0, 'Ascent': 38.0}\n",
       "18          {'Lotus': 0.0, 'Bind': 0.0, 'Sunset': 7.0, 'Abyss': 0.0, 'Icebox': 13.0, 'Haven': 6.0, 'Ascent': 13.0}\n",
       "19          {'Lotus': 15.0, 'Bind': 0.0, 'Sunset': 0.0, 'Abyss': 0.0, 'Icebox': 0.0, 'Haven': 0.0, 'Ascent': 13.0}\n",
       "20            {'Lotus': 8.0, 'Bind': 7.0, 'Sunset': 0.0, 'Abyss': 0.0, 'Icebox': 0.0, 'Haven': 0.0, 'Ascent': 0.0}\n",
       "21           {'Lotus': 0.0, 'Bind': 0.0, 'Sunset': 0.0, 'Abyss': 0.0, 'Icebox': 0.0, 'Haven': 11.0, 'Ascent': 0.0}\n",
       "22           {'Lotus': 0.0, 'Bind': 0.0, 'Sunset': 0.0, 'Abyss': 0.0, 'Icebox': 0.0, 'Haven': 0.0, 'Ascent': 13.0}\n",
       "23            {'Lotus': 0.0, 'Bind': 0.0, 'Sunset': 0.0, 'Abyss': 0.0, 'Icebox': 0.0, 'Haven': 0.0, 'Ascent': 0.0}\n",
       "24            {'Lotus': 0.0, 'Bind': 0.0, 'Sunset': 0.0, 'Abyss': 0.0, 'Icebox': 0.0, 'Haven': 0.0, 'Ascent': 0.0}\n",
       "25            {'Lotus': 0.0, 'Bind': 0.0, 'Sunset': 0.0, 'Abyss': 0.0, 'Icebox': 0.0, 'Haven': 0.0, 'Ascent': 0.0}\n",
       "26            {'Lotus': 0.0, 'Bind': 0.0, 'Sunset': 0.0, 'Abyss': 0.0, 'Icebox': 0.0, 'Haven': 0.0, 'Ascent': 0.0}\n",
       "Name: map_utilizations, dtype: object"
      ]
     },
     "execution_count": 11,
     "metadata": {},
     "output_type": "execute_result"
    }
   ],
   "source": [
    "from pathlib import Path\n",
    "import pandas as pd\n",
    "\n",
    "script_dir = Path().resolve()  # current working directory\n",
    "file_path = script_dir / \"data\" / \"agents_stats.csv\"\n",
    "\n",
    "df = pd.read_csv(file_path)\n",
    "pd.set_option('display.max_colwidth', None)\n",
    "df['map_utilizations'].head(80)\n"
   ]
  },
  {
   "cell_type": "markdown",
   "id": "f3a2758a",
   "metadata": {},
   "source": [
    "##### agent_stats.csv \n",
    "- 26 rows: 1 per agent\n",
    "- 3 columns: Agent name (unique key), pick rate %, pick rate per map % (nested dict)\n",
    "- Notes: Pick rate per map % will need flattening before analysis. Keep 0% pick rates though.\n",
    "- Potential: Can join with other csvs for deeper analysis. \n",
    "##### detailed_matches_maps.csv\n",
    "-  7 columns: match_id, map_name, map_order, score, winner, duration, picked_by.\n",
    "    - match_id unique for the match, but several maps for each match. One (match_id) to many (map_name). Foreign key probably.\n",
    "- 86 rows: One per map \n",
    "- Notes: Need to figure out how to contextualize \"Decider\"\n",
    "- Potential: Look at win rate % by picked_by, see the average map duration for each team to compare against overall success\n",
    "##### detailed_matches_overview.csv\n",
    "- 10 columns: match_id, match_title, event, date, format, teams, score, maps_played, patch, pick_ban_info\n",
    "- 33 rows: One for each match. \n",
    "- Notes: match_id can be linked to detailed_matches_maps , match score is easily visible, pick & ban info available. \n",
    "- Potential: Use to track what maps people banned & picked (totals) and how they performed on those maps later.\n",
    "##### detailed_matches_player_stats.csv\n",
    "- 25 columns\n",
    "    - Useful columns: match_id, rating, player_id (unique identifier)\n",
    "- Notes: Large. 1200 rows. Data for each player on each team for each map. \n",
    "- Potential: Can be used to track trends over time for each player instead of viewing stats in aggregate.\n",
    "##### economy_data.csv\n",
    "- 8 columns: map, team, pistol won, eco (won), semi-eco(won) semi-buy(won) full buy (won) match_id\n",
    "- 216 rows: One for each team, each map.\n",
    "- Notes: Need to flatten data format. 1(0) and 2(0) etc. \n",
    "- Potential: Identifying trends in types of rounds won\n",
    "##### event_info.csv\n",
    "- 6 columns: url, title, subtitle, dates, prize_pool, location.\n",
    "- 1 row: 1 value for each column.\n",
    "- No potential for this project outside of basic event info.\n",
    "##### maps_stats.csv\n",
    "- 4 columns: map_name, times_played, attack_win_percent, defense_win_percent\n",
    "- 7 rows: One for each map that was played throughout the tournament.\n",
    "- Notes: Shows high level stats for map stats.\n",
    "- Potential:  Easy to see win % by side. \n",
    "##### matches.csv\n",
    "- 13 columns: date, match_id, time, team1, score1, team2, score2, winner, status, week, stage\n",
    "- 34 rows: One for every match played throughout the tournament\n",
    "- Notes: Some columns can be dropped (time, status). \n",
    "- Potential: Might be helpful to pair with other tables. \n",
    "##### performance_data.csv\n",
    "- 17 columns: Match ID, map, player, team, agent, 2k, 3k, 4k, 5k, 1v1, 1v2, 1v3, 1v4, 1v5, econ, PL, DE\n",
    "- 860 rows: One for every player for every match. 10 rows per map. \n",
    "- Notes: Has agent information, round information, econ rating, plants and defuses. \n",
    "- Potential: Identify trends in designated planters. Measure econ rating as an indicator of success.  \n",
    "##### player_stats.csv\n",
    "- 25 columns: player, player_name, team, player_id, agents_count, agents, rounds, rating, acs, kd_ratio, kast, adr, kpr, apr, fkpr, fdpr, hs_percent, cl_percent, clutches, k_max, kills, deaths, assists, first_kills, first_deaths\n",
    "- 80 rows: One for each player in \n",
    "- Notes: Need to clean 'agents' column, standardize data types for percentages. \n",
    "- Potential: See if certain players were more successful playing more or less agents. Helpful in determining best overall players. \n",
    "\n",
    "\n",
    "Now we'll clean the data to get it ready to load into PostgreSQL!"
   ]
  },
  {
   "cell_type": "markdown",
   "id": "5c50275a",
   "metadata": {},
   "source": [
    "11 columns. 10 useable ones. "
   ]
  },
  {
   "cell_type": "code",
   "execution_count": null,
   "id": "5afe2cdb",
   "metadata": {},
   "outputs": [
    {
     "data": {
      "text/plain": [
       "0     {'Lotus': 100.0, 'Bind': 13.0, 'Sunset': 93.0, 'Abyss': 50.0, 'Icebox': 0.0, 'Haven': 100.0, 'Ascent': 88.0}\n",
       "1       {'Lotus': 0.0, 'Bind': 0.0, 'Sunset': 75.0, 'Abyss': 96.0, 'Icebox': 92.0, 'Haven': 89.0, 'Ascent': 100.0}\n",
       "2       {'Lotus': 68.0, 'Bind': 90.0, 'Sunset': 0.0, 'Abyss': 21.0, 'Icebox': 100.0, 'Haven': 17.0, 'Ascent': 0.0}\n",
       "3       {'Lotus': 18.0, 'Bind': 17.0, 'Sunset': 93.0, 'Abyss': 75.0, 'Icebox': 0.0, 'Haven': 78.0, 'Ascent': 38.0}\n",
       "4          {'Lotus': 75.0, 'Bind': 87.0, 'Sunset': 46.0, 'Abyss': 0.0, 'Icebox': 0.0, 'Haven': 6.0, 'Ascent': 0.0}\n",
       "5          {'Lotus': 90.0, 'Bind': 63.0, 'Sunset': 11.0, 'Abyss': 4.0, 'Icebox': 0.0, 'Haven': 0.0, 'Ascent': 0.0}\n",
       "6       {'Lotus': 53.0, 'Bind': 0.0, 'Sunset': 0.0, 'Abyss': 13.0, 'Icebox': 100.0, 'Haven': 22.0, 'Ascent': 50.0}\n",
       "7         {'Lotus': 8.0, 'Bind': 0.0, 'Sunset': 0.0, 'Abyss': 79.0, 'Icebox': 71.0, 'Haven': 22.0, 'Ascent': 88.0}\n",
       "8         {'Lotus': 5.0, 'Bind': 73.0, 'Sunset': 14.0, 'Abyss': 29.0, 'Icebox': 42.0, 'Haven': 6.0, 'Ascent': 0.0}\n",
       "9          {'Lotus': 33.0, 'Bind': 0.0, 'Sunset': 57.0, 'Abyss': 0.0, 'Icebox': 0.0, 'Haven': 67.0, 'Ascent': 0.0}\n",
       "10        {'Lotus': 20.0, 'Bind': 3.0, 'Sunset': 54.0, 'Abyss': 0.0, 'Icebox': 17.0, 'Haven': 50.0, 'Ascent': 0.0}\n",
       "11        {'Lotus': 3.0, 'Bind': 0.0, 'Sunset': 39.0, 'Abyss': 38.0, 'Icebox': 33.0, 'Haven': 0.0, 'Ascent': 63.0}\n",
       "12           {'Lotus': 0.0, 'Bind': 73.0, 'Sunset': 0.0, 'Abyss': 0.0, 'Icebox': 0.0, 'Haven': 0.0, 'Ascent': 0.0}\n",
       "13          {'Lotus': 3.0, 'Bind': 13.0, 'Sunset': 7.0, 'Abyss': 58.0, 'Icebox': 0.0, 'Haven': 0.0, 'Ascent': 0.0}\n",
       "14         {'Lotus': 0.0, 'Bind': 13.0, 'Sunset': 0.0, 'Abyss': 21.0, 'Icebox': 0.0, 'Haven': 22.0, 'Ascent': 0.0}\n",
       "15           {'Lotus': 3.0, 'Bind': 37.0, 'Sunset': 0.0, 'Abyss': 0.0, 'Icebox': 0.0, 'Haven': 6.0, 'Ascent': 0.0}\n",
       "16          {'Lotus': 0.0, 'Bind': 0.0, 'Sunset': 0.0, 'Abyss': 17.0, 'Icebox': 33.0, 'Haven': 0.0, 'Ascent': 0.0}\n",
       "17          {'Lotus': 3.0, 'Bind': 10.0, 'Sunset': 4.0, 'Abyss': 0.0, 'Icebox': 0.0, 'Haven': 0.0, 'Ascent': 38.0}\n",
       "18          {'Lotus': 0.0, 'Bind': 0.0, 'Sunset': 7.0, 'Abyss': 0.0, 'Icebox': 13.0, 'Haven': 6.0, 'Ascent': 13.0}\n",
       "19          {'Lotus': 15.0, 'Bind': 0.0, 'Sunset': 0.0, 'Abyss': 0.0, 'Icebox': 0.0, 'Haven': 0.0, 'Ascent': 13.0}\n",
       "20            {'Lotus': 8.0, 'Bind': 7.0, 'Sunset': 0.0, 'Abyss': 0.0, 'Icebox': 0.0, 'Haven': 0.0, 'Ascent': 0.0}\n",
       "21           {'Lotus': 0.0, 'Bind': 0.0, 'Sunset': 0.0, 'Abyss': 0.0, 'Icebox': 0.0, 'Haven': 11.0, 'Ascent': 0.0}\n",
       "22           {'Lotus': 0.0, 'Bind': 0.0, 'Sunset': 0.0, 'Abyss': 0.0, 'Icebox': 0.0, 'Haven': 0.0, 'Ascent': 13.0}\n",
       "23            {'Lotus': 0.0, 'Bind': 0.0, 'Sunset': 0.0, 'Abyss': 0.0, 'Icebox': 0.0, 'Haven': 0.0, 'Ascent': 0.0}\n",
       "24            {'Lotus': 0.0, 'Bind': 0.0, 'Sunset': 0.0, 'Abyss': 0.0, 'Icebox': 0.0, 'Haven': 0.0, 'Ascent': 0.0}\n",
       "25            {'Lotus': 0.0, 'Bind': 0.0, 'Sunset': 0.0, 'Abyss': 0.0, 'Icebox': 0.0, 'Haven': 0.0, 'Ascent': 0.0}\n",
       "26            {'Lotus': 0.0, 'Bind': 0.0, 'Sunset': 0.0, 'Abyss': 0.0, 'Icebox': 0.0, 'Haven': 0.0, 'Ascent': 0.0}\n",
       "Name: map_utilizations, dtype: object"
      ]
     },
     "execution_count": 12,
     "metadata": {},
     "output_type": "execute_result"
    }
   ],
   "source": [
    "df = pd.read_csv(file_path)\n",
    "pd.set_option('display.max_colwidth', None)\n",
    "df['map_utilizations'].head(80)\n",
    "\n",
    "# Must convert each key into a column & value into each row. "
   ]
  },
  {
   "cell_type": "code",
   "execution_count": null,
   "id": "cececef4",
   "metadata": {},
   "outputs": [],
   "source": []
  }
 ],
 "metadata": {
  "kernelspec": {
   "display_name": "Python 3",
   "language": "python",
   "name": "python3"
  },
  "language_info": {
   "codemirror_mode": {
    "name": "ipython",
    "version": 3
   },
   "file_extension": ".py",
   "mimetype": "text/x-python",
   "name": "python",
   "nbconvert_exporter": "python",
   "pygments_lexer": "ipython3",
   "version": "3.13.4"
  }
 },
 "nbformat": 4,
 "nbformat_minor": 5
}
